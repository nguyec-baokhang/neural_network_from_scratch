{
 "cells": [
  {
   "cell_type": "code",
   "execution_count": 102,
   "metadata": {},
   "outputs": [],
   "source": [
    "import numpy as np \n",
    "import matplotlib.pyplot as plt \n",
    "import pandas as pd \n",
    "import pathlib\n",
    "import idx2numpy"
   ]
  },
  {
   "cell_type": "code",
   "execution_count": 103,
   "metadata": {},
   "outputs": [],
   "source": [
    "X_train = 'archive/train-images.idx3-ubyte'\n",
    "y_train = 'archive/train-labels.idx1-ubyte'\n",
    "X_test = 'archive/t10k-images.idx3-ubyte'\n",
    "y_test = 'archive/t10k-labels.idx1-ubyte'"
   ]
  },
  {
   "cell_type": "code",
   "execution_count": 104,
   "metadata": {},
   "outputs": [],
   "source": [
    "X_train = idx2numpy.convert_from_file(X_train)\n",
    "y_train = idx2numpy.convert_from_file(y_train)\n",
    "X_test = idx2numpy.convert_from_file(X_test)\n",
    "y_test = idx2numpy.convert_from_file(y_test)"
   ]
  },
  {
   "cell_type": "code",
   "execution_count": 105,
   "metadata": {},
   "outputs": [],
   "source": [
    "X_train = X_train.reshape(-1, 28 * 28)\n",
    "X_test = X_test.reshape(-1, 28 * 28)"
   ]
  },
  {
   "cell_type": "code",
   "execution_count": 106,
   "metadata": {},
   "outputs": [],
   "source": [
    "X_train = X_train / 255.0\n",
    "X_test = X_test / 255.0"
   ]
  },
  {
   "cell_type": "code",
   "execution_count": 107,
   "metadata": {},
   "outputs": [],
   "source": [
    "class LayerDense:\n",
    "    def __init__(self,n_inputs,n_neurons):\n",
    "        self.weights = 0.1*np.random.randn(n_inputs,n_neurons)\n",
    "        self.biases = np.zeros((1,n_neurons))\n",
    "\n",
    "    def forward(self,inputs):\n",
    "        self.output = np.dot(inputs,self.weights) + self.biases\n",
    "        self.inputs = inputs\n",
    "        return self.output\n",
    "    \n",
    "    def backward(self,dvalues): \n",
    "        self.dweights = np.dot(self.inputs.T,dvalues)\n",
    "        self.dbiases = np.sum(dvalues,axis=0,keepdims=True)\n",
    "        self.dinputs = np.dot(dvalues, self.weights.T)"
   ]
  },
  {
   "cell_type": "code",
   "execution_count": 161,
   "metadata": {},
   "outputs": [],
   "source": [
    "class Activation_Relu:\n",
    "    def forward(self,inputs):\n",
    "        self.inputs = inputs\n",
    "        self.output = np.maximum(0,inputs)\n",
    "        return self.output\n",
    "    def backward(self,dvalues): \n",
    "        self.dinputs = dvalues.copy()\n",
    "        self.dinputs[self.inputs <= 0] = 0"
   ]
  },
  {
   "cell_type": "code",
   "execution_count": 109,
   "metadata": {},
   "outputs": [],
   "source": [
    "class Activation_Softmax: \n",
    "    def forward(self,layer_outputs): \n",
    "        exp_values = np.exp(layer_outputs - np.max(layer_outputs, keepdims= True, axis= 1))\n",
    "        probabilities = exp_values / (np.sum(exp_values, keepdims=True, axis=1))\n",
    "        self.output = probabilities\n",
    "        return self.output\n",
    "    \n",
    "    def backward(self,dvalues): \n",
    "        self.dinputs = np.empty_like(dvalues)\n",
    "\n",
    "        for index,(single_output, single_dvalues) in enumerate(zip(self.output,dvalues)): \n",
    "            single_output = single_output.reshape(-1,1)\n",
    "            jacobian_matrix = np.diagflat(single_output) - np.dot(single_output,single_output.T)\n",
    "            self.dinputs[index] = np.dot(jacobian_matrix,single_dvalues)"
   ]
  },
  {
   "cell_type": "code",
   "execution_count": 110,
   "metadata": {},
   "outputs": [],
   "source": [
    "class Loss: \n",
    "    def calculate(self, output, y): \n",
    "        sample_losses = self.forward(output, y)\n",
    "        data_loss = np.mean(sample_losses)\n",
    "        return data_loss\n",
    "    \n",
    "class Loss_CategoricalCrossEntropy(Loss):\n",
    "    def forward(self, y_pred, y_true): \n",
    "        samples = len(y_pred)\n",
    "        y_pred_clipped = np.clip(y_pred, 1e-7, 1-1e-7)\n",
    "\n",
    "        if len(y_true.shape) == 1: \n",
    "            correct_confidences = y_pred_clipped[range(samples), y_true]\n",
    "\n",
    "        elif len(y_true.shape) == 2: \n",
    "            correct_confidences = np.sum(y_pred_clipped*y_true, axis=1)\n",
    "\n",
    "        neg_log_likelihoods = -np.log(correct_confidences)\n",
    "\n",
    "        return neg_log_likelihoods\n",
    "    \n",
    "    def backward(self,dvalues,y_true): \n",
    "        samples = len(dvalues)\n",
    "        labels = len(dvalues[0])\n",
    "\n",
    "        if len(y_true.shape) == 1: \n",
    "            y_true = np.eye(labels)[y_true]\n",
    "\n",
    "        self.dinputs = -y_true/dvalues\n",
    "        self.dinputs = self.dinputs/samples"
   ]
  },
  {
   "cell_type": "code",
   "execution_count": 117,
   "metadata": {},
   "outputs": [],
   "source": [
    "class Activation_Softmax_Loss_CategoricalCrossEntropy: \n",
    "    def __init__(self):\n",
    "        self.activation = Activation_Softmax()\n",
    "        self.loss = Loss_CategoricalCrossEntropy()\n",
    "\n",
    "    def forward(self,inputs,y_true): \n",
    "        self.activation.forward(inputs)\n",
    "        self.output = self.activation.output\n",
    "        return self.loss.calculate(self.output,y_true)\n",
    "    \n",
    "    def backward(self,dvalues,y_true): \n",
    "        samples = len(dvalues)\n",
    "\n",
    "        if len(y_true.shape) == 2: \n",
    "            y_true = np.argmax(y_true,axis=1)\n",
    "\n",
    "        self.dinputs = dvalues.copy()\n",
    "        self.dinputs[range(samples),y_true] -= 1\n",
    "        self.dinputs = self.dinputs / samples"
   ]
  },
  {
   "cell_type": "code",
   "execution_count": 167,
   "metadata": {},
   "outputs": [],
   "source": [
    "class Optimizer_SGD: \n",
    "    def __init__(self,lr=1.0):\n",
    "        self.lr = lr \n",
    "\n",
    "    def update_params(self,layer): \n",
    "        layer.weights += -self.lr * layer.dweights \n",
    "        layer.biases += -self.lr * layer.dbiases"
   ]
  },
  {
   "cell_type": "code",
   "execution_count": 112,
   "metadata": {},
   "outputs": [],
   "source": [
    "class Neural_Network(LayerDense, Activation_Relu, Activation_Softmax, Loss_CategoricalCrossEntropy): \n",
    "    def __init__(self,n_inputs,n_neurons,n_outputs):\n",
    "        self.layer1 = LayerDense(n_inputs,n_neurons)\n",
    "        self.layer2 = LayerDense(n_neurons,n_outputs)\n",
    "        self.activation1 = Activation_Relu() \n",
    "        self.activation2 = Activation_Softmax()\n",
    "\n",
    "    def forward(self,inputs): \n",
    "        self.Z1 = self.layer1.forward(inputs)\n",
    "        self.A1 = self.activation1.forward(self.Z1)\n",
    "        self.Z2 = self.layer2.forward(self.A1)\n",
    "        self.A2 = self.activation2.forward(self.Z2)\n",
    "        return self.A2"
   ]
  },
  {
   "cell_type": "code",
   "execution_count": 200,
   "metadata": {},
   "outputs": [],
   "source": [
    "def test_prediction(index,model,X,y): \n",
    "    current_image = X[index:index+1]\n",
    "    softmax_output = model.forward(current_image)\n",
    "    prediction = np.argmax(softmax_output)\n",
    "    label = y[index]\n",
    "    print(f\"Predictions: {prediction}\")\n",
    "    print(f\"Label: {label}\")\n",
    "\n",
    "    current_image = current_image.reshape((28,28))\n",
    "    plt.gray()\n",
    "    plt.imshow(current_image, interpolation=\"nearest\")\n",
    "    plt.title(f\"Predicted: {prediction}, Actual: {label}\")\n",
    "    plt.show()"
   ]
  },
  {
   "cell_type": "code",
   "execution_count": 174,
   "metadata": {},
   "outputs": [
    {
     "name": "stdout",
     "output_type": "stream",
     "text": [
      "Epoch: 0| Accuracy: 0.095| Loss: 2.3033748367721847 \n",
      "Epoch: 100| Accuracy: 0.720| Loss: 1.7756359125714087 \n",
      "Epoch: 200| Accuracy: 0.750| Loss: 1.7199918795989455 \n",
      "Epoch: 300| Accuracy: 0.758| Loss: 1.708267585533508 \n",
      "Epoch: 400| Accuracy: 0.763| Loss: 1.70241693780936 \n",
      "Epoch: 500| Accuracy: 0.831| Loss: 1.642781535799706 \n",
      "Epoch: 600| Accuracy: 0.843| Loss: 1.626054520810554 \n",
      "Epoch: 700| Accuracy: 0.848| Loss: 1.6200229927009107 \n",
      "Epoch: 800| Accuracy: 0.850| Loss: 1.616577843082599 \n",
      "Epoch: 900| Accuracy: 0.852| Loss: 1.6141431746016452 \n",
      "Epoch: 1000| Accuracy: 0.853| Loss: 1.6122396804081598 \n",
      "Epoch: 1100| Accuracy: 0.855| Loss: 1.6106517528236557 \n"
     ]
    },
    {
     "ename": "KeyboardInterrupt",
     "evalue": "",
     "output_type": "error",
     "traceback": [
      "\u001b[0;31m---------------------------------------------------------------------------\u001b[0m",
      "\u001b[0;31mKeyboardInterrupt\u001b[0m                         Traceback (most recent call last)",
      "Cell \u001b[0;32mIn[174], line 20\u001b[0m\n\u001b[1;32m     17\u001b[0m     \u001b[38;5;28mprint\u001b[39m(\u001b[38;5;124mf\u001b[39m\u001b[38;5;124m\"\u001b[39m\u001b[38;5;124mEpoch: \u001b[39m\u001b[38;5;132;01m{\u001b[39;00mepoch\u001b[38;5;132;01m}\u001b[39;00m\u001b[38;5;124m| Accuracy: \u001b[39m\u001b[38;5;132;01m{\u001b[39;00maccuracy\u001b[38;5;132;01m:\u001b[39;00m\u001b[38;5;124m.3f\u001b[39m\u001b[38;5;132;01m}\u001b[39;00m\u001b[38;5;124m| Loss: \u001b[39m\u001b[38;5;132;01m{\u001b[39;00mloss\u001b[38;5;132;01m}\u001b[39;00m\u001b[38;5;124m \u001b[39m\u001b[38;5;124m\"\u001b[39m)   \n\u001b[1;32m     19\u001b[0m loss_fn\u001b[38;5;241m.\u001b[39mbackward(loss_fn\u001b[38;5;241m.\u001b[39moutput, y_train)\n\u001b[0;32m---> 20\u001b[0m \u001b[43mmodel_1\u001b[49m\u001b[38;5;241;43m.\u001b[39;49m\u001b[43mactivation2\u001b[49m\u001b[38;5;241;43m.\u001b[39;49m\u001b[43mbackward\u001b[49m\u001b[43m(\u001b[49m\u001b[43mloss_fn\u001b[49m\u001b[38;5;241;43m.\u001b[39;49m\u001b[43mdinputs\u001b[49m\u001b[43m)\u001b[49m\n\u001b[1;32m     21\u001b[0m model_1\u001b[38;5;241m.\u001b[39mlayer2\u001b[38;5;241m.\u001b[39mbackward(model_1\u001b[38;5;241m.\u001b[39mactivation2\u001b[38;5;241m.\u001b[39mdinputs)\n\u001b[1;32m     22\u001b[0m model_1\u001b[38;5;241m.\u001b[39mactivation1\u001b[38;5;241m.\u001b[39mbackward(model_1\u001b[38;5;241m.\u001b[39mlayer2\u001b[38;5;241m.\u001b[39mdinputs)\n",
      "Cell \u001b[0;32mIn[109], line 13\u001b[0m, in \u001b[0;36mActivation_Softmax.backward\u001b[0;34m(self, dvalues)\u001b[0m\n\u001b[1;32m     11\u001b[0m \u001b[38;5;28;01mfor\u001b[39;00m index,(single_output, single_dvalues) \u001b[38;5;129;01min\u001b[39;00m \u001b[38;5;28menumerate\u001b[39m(\u001b[38;5;28mzip\u001b[39m(\u001b[38;5;28mself\u001b[39m\u001b[38;5;241m.\u001b[39moutput,dvalues)): \n\u001b[1;32m     12\u001b[0m     single_output \u001b[38;5;241m=\u001b[39m single_output\u001b[38;5;241m.\u001b[39mreshape(\u001b[38;5;241m-\u001b[39m\u001b[38;5;241m1\u001b[39m,\u001b[38;5;241m1\u001b[39m)\n\u001b[0;32m---> 13\u001b[0m     jacobian_matrix \u001b[38;5;241m=\u001b[39m np\u001b[38;5;241m.\u001b[39mdiagflat(single_output) \u001b[38;5;241m-\u001b[39m \u001b[43mnp\u001b[49m\u001b[38;5;241;43m.\u001b[39;49m\u001b[43mdot\u001b[49m\u001b[43m(\u001b[49m\u001b[43msingle_output\u001b[49m\u001b[43m,\u001b[49m\u001b[43msingle_output\u001b[49m\u001b[38;5;241;43m.\u001b[39;49m\u001b[43mT\u001b[49m\u001b[43m)\u001b[49m\n\u001b[1;32m     14\u001b[0m     \u001b[38;5;28mself\u001b[39m\u001b[38;5;241m.\u001b[39mdinputs[index] \u001b[38;5;241m=\u001b[39m np\u001b[38;5;241m.\u001b[39mdot(jacobian_matrix,single_dvalues)\n",
      "\u001b[0;31mKeyboardInterrupt\u001b[0m: "
     ]
    }
   ],
   "source": [
    "model_1 = Neural_Network(784,10,10)\n",
    "loss_fn = Activation_Softmax_Loss_CategoricalCrossEntropy() \n",
    "optimizer = Optimizer_SGD(lr=1.0) \n",
    "\n",
    "epochs = 10001 \n",
    "\n",
    "for epoch in range(epochs): \n",
    "    softmax_output = model_1.forward(X_train)\n",
    "    loss = loss_fn.forward(softmax_output,y_train)\n",
    "\n",
    "    predictions = np.argmax(softmax_output, axis=1)\n",
    "    if len(y_train.shape) == 2: \n",
    "        y_train = np.argmax(y_train,axis=1)\n",
    "    accuracy = np.mean(predictions == y_train)\n",
    "\n",
    "    if epoch % 100 == 0: \n",
    "        print(f\"Epoch: {epoch}| Accuracy: {accuracy:.3f}| Loss: {loss} \")   \n",
    "\n",
    "    loss_fn.backward(loss_fn.output, y_train)\n",
    "    model_1.activation2.backward(loss_fn.dinputs)\n",
    "    model_1.layer2.backward(model_1.activation2.dinputs)\n",
    "    model_1.activation1.backward(model_1.layer2.dinputs)\n",
    "    model_1.layer1.backward(model_1.activation1.dinputs)\n",
    "\n",
    "    optimizer.update_params(model_1.layer1)\n",
    "    optimizer.update_params(model_1.layer2)"
   ]
  },
  {
   "cell_type": "code",
   "execution_count": 203,
   "metadata": {},
   "outputs": [
    {
     "name": "stdout",
     "output_type": "stream",
     "text": [
      "Predictions: 6\n",
      "Label: 6\n"
     ]
    },
    {
     "data": {
      "image/png": "[encoded data removed]",
      "text/plain": [
       "<Figure size 640x480 with 1 Axes>"
      ]
     },
     "metadata": {},
     "output_type": "display_data"
    }
   ],
   "source": [
    "test_prediction(130,model_1,X_test,y_test)"
   ]
  }
 ],
 "metadata": {
  "kernelspec": {
   "display_name": "myenv2",
   "language": "python",
   "name": "python3"
  },
  "language_info": {
   "codemirror_mode": {
    "name": "ipython",
    "version": 3
   },
   "file_extension": ".py",
   "mimetype": "text/x-python",
   "name": "python",
   "nbconvert_exporter": "python",
   "pygments_lexer": "ipython3",
   "version": "3.11.10"
  }
 },
 "nbformat": 4,
 "nbformat_minor": 2
}
